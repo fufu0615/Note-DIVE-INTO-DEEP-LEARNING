{
 "cells": [
  {
   "cell_type": "code",
   "execution_count": 1,
   "id": "a6f8677c-1332-4fd1-a1e6-1b2ccc3f606a",
   "metadata": {},
   "outputs": [],
   "source": [
    "import torch"
   ]
  },
  {
   "cell_type": "code",
   "execution_count": 2,
   "id": "d70cefc4",
   "metadata": {},
   "outputs": [
    {
     "data": {
      "text/plain": [
       "tensor([ 0,  1,  2,  3,  4,  5,  6,  7,  8,  9, 10, 11, 12, 13, 14, 15, 16, 17,\n",
       "        18, 19])"
      ]
     },
     "execution_count": 2,
     "metadata": {},
     "output_type": "execute_result"
    }
   ],
   "source": [
    "a = torch.arange(20)  # 生成0~19的向量\n",
    "a"
   ]
  },
  {
   "cell_type": "code",
   "execution_count": 3,
   "id": "606f9a55",
   "metadata": {},
   "outputs": [
    {
     "data": {
      "text/plain": [
       "(torch.Size([20]), 20)"
      ]
     },
     "execution_count": 3,
     "metadata": {},
     "output_type": "execute_result"
    }
   ],
   "source": [
    "a.shape,a.numel()  # 张量形状，元素个数"
   ]
  },
  {
   "cell_type": "code",
   "execution_count": 4,
   "id": "3d08463f",
   "metadata": {},
   "outputs": [
    {
     "data": {
      "text/plain": [
       "tensor([[ 0,  1,  2,  3,  4],\n",
       "        [ 5,  6,  7,  8,  9],\n",
       "        [10, 11, 12, 13, 14],\n",
       "        [15, 16, 17, 18, 19]])"
      ]
     },
     "execution_count": 4,
     "metadata": {},
     "output_type": "execute_result"
    }
   ],
   "source": [
    "a = a.reshape(4,5)\n",
    "a"
   ]
  },
  {
   "cell_type": "code",
   "execution_count": 5,
   "id": "6b0adca2",
   "metadata": {},
   "outputs": [
    {
     "data": {
      "text/plain": [
       "(tensor([[0., 0., 0., 0., 0.],\n",
       "         [0., 0., 0., 0., 0.],\n",
       "         [0., 0., 0., 0., 0.],\n",
       "         [0., 0., 0., 0., 0.]]),\n",
       " tensor([[1., 1., 1., 1., 1.],\n",
       "         [1., 1., 1., 1., 1.],\n",
       "         [1., 1., 1., 1., 1.],\n",
       "         [1., 1., 1., 1., 1.]]))"
      ]
     },
     "execution_count": 5,
     "metadata": {},
     "output_type": "execute_result"
    }
   ],
   "source": [
    "b = torch.zeros(4,5)\n",
    "c = torch.ones(4,5)\n",
    "b,c"
   ]
  },
  {
   "cell_type": "code",
   "execution_count": 6,
   "id": "e5dcc4d7",
   "metadata": {},
   "outputs": [
    {
     "data": {
      "text/plain": [
       "(tensor([[3, 3],\n",
       "         [7, 8],\n",
       "         [4, 5],\n",
       "         [8, 1],\n",
       "         [8, 0]]),\n",
       " torch.Size([5, 2]))"
      ]
     },
     "execution_count": 6,
     "metadata": {},
     "output_type": "execute_result"
    }
   ],
   "source": [
    "d = torch.tensor([[3,3],[7,8],[4,5],[8,1],[8,0]])\n",
    "d,d.shape"
   ]
  },
  {
   "cell_type": "code",
   "execution_count": 7,
   "id": "32db5890",
   "metadata": {},
   "outputs": [
    {
     "data": {
      "text/plain": [
       "(tensor([[ 0.,  1.,  2.,  3.,  4.],\n",
       "         [ 5.,  6.,  7.,  8.,  9.],\n",
       "         [10., 11., 12., 13., 14.],\n",
       "         [15., 16., 17., 18., 19.]]),\n",
       " tensor([[-1.,  0.,  1.,  2.,  3.],\n",
       "         [ 4.,  5.,  6.,  7.,  8.],\n",
       "         [ 9., 10., 11., 12., 13.],\n",
       "         [14., 15., 16., 17., 18.]]),\n",
       " tensor([[0., 0., 0., 0., 0.],\n",
       "         [0., 0., 0., 0., 0.],\n",
       "         [0., 0., 0., 0., 0.],\n",
       "         [0., 0., 0., 0., 0.]]),\n",
       " tensor([[ 0.,  1.,  2.,  3.,  4.],\n",
       "         [ 5.,  6.,  7.,  8.,  9.],\n",
       "         [10., 11., 12., 13., 14.],\n",
       "         [15., 16., 17., 18., 19.]]))"
      ]
     },
     "execution_count": 7,
     "metadata": {},
     "output_type": "execute_result"
    }
   ],
   "source": [
    "a+b,a-c,a*b,a/c"
   ]
  },
  {
   "cell_type": "code",
   "execution_count": 8,
   "id": "9289becb",
   "metadata": {},
   "outputs": [
    {
     "data": {
      "text/plain": [
       "tensor([[1.0000e+00, 2.7183e+00, 7.3891e+00, 2.0086e+01, 5.4598e+01],\n",
       "        [1.4841e+02, 4.0343e+02, 1.0966e+03, 2.9810e+03, 8.1031e+03],\n",
       "        [2.2026e+04, 5.9874e+04, 1.6275e+05, 4.4241e+05, 1.2026e+06],\n",
       "        [3.2690e+06, 8.8861e+06, 2.4155e+07, 6.5660e+07, 1.7848e+08]])"
      ]
     },
     "execution_count": 8,
     "metadata": {},
     "output_type": "execute_result"
    }
   ],
   "source": [
    "torch.exp(a)  # torch.exp -> e^a"
   ]
  },
  {
   "cell_type": "code",
   "execution_count": 9,
   "id": "34df9cc3",
   "metadata": {},
   "outputs": [
    {
     "data": {
      "text/plain": [
       "(tensor([[ 0.,  1.,  2.,  3.,  4.],\n",
       "         [ 5.,  6.,  7.,  8.,  9.],\n",
       "         [10., 11., 12., 13., 14.],\n",
       "         [15., 16., 17., 18., 19.],\n",
       "         [ 0.,  0.,  0.,  0.,  0.],\n",
       "         [ 0.,  0.,  0.,  0.,  0.],\n",
       "         [ 0.,  0.,  0.,  0.,  0.],\n",
       "         [ 0.,  0.,  0.,  0.,  0.]]),\n",
       " tensor([[ 0.,  1.,  2.,  3.,  4.,  0.,  0.,  0.,  0.,  0.],\n",
       "         [ 5.,  6.,  7.,  8.,  9.,  0.,  0.,  0.,  0.,  0.],\n",
       "         [10., 11., 12., 13., 14.,  0.,  0.,  0.,  0.,  0.],\n",
       "         [15., 16., 17., 18., 19.,  0.,  0.,  0.,  0.,  0.]]))"
      ]
     },
     "execution_count": 9,
     "metadata": {},
     "output_type": "execute_result"
    }
   ],
   "source": [
    "torch.cat((a,b),dim=0),torch.cat((a,b),dim=1)  # 张量的连接：torch.cat((张量一，张量二)，dim=连接改变的维度)"
   ]
  },
  {
   "cell_type": "code",
   "execution_count": 10,
   "id": "bb04dbaf",
   "metadata": {},
   "outputs": [
    {
     "data": {
      "text/plain": [
       "tensor([[ True, False, False, False, False],\n",
       "        [False, False, False, False, False],\n",
       "        [False, False, False, False, False],\n",
       "        [False, False, False, False, False]])"
      ]
     },
     "execution_count": 10,
     "metadata": {},
     "output_type": "execute_result"
    }
   ],
   "source": [
    "a == b  # 逻辑运算"
   ]
  },
  {
   "cell_type": "code",
   "execution_count": 11,
   "id": "37b6de28",
   "metadata": {},
   "outputs": [
    {
     "data": {
      "text/plain": [
       "tensor(190)"
      ]
     },
     "execution_count": 11,
     "metadata": {},
     "output_type": "execute_result"
    }
   ],
   "source": [
    "a.sum()  # 对张量所有元素求和会生成一个元素的张量"
   ]
  },
  {
   "cell_type": "code",
   "execution_count": 12,
   "id": "c66b4427",
   "metadata": {},
   "outputs": [
    {
     "data": {
      "text/plain": [
       "(tensor([[0],\n",
       "         [1],\n",
       "         [2]]),\n",
       " tensor([[0, 1]]),\n",
       " tensor([[0, 1],\n",
       "         [1, 2],\n",
       "         [2, 3]]))"
      ]
     },
     "execution_count": 12,
     "metadata": {},
     "output_type": "execute_result"
    }
   ],
   "source": [
    "e = torch.tensor([[0],[1],[2]])\n",
    "f = torch.tensor([[0,1]])\n",
    "g = torch.tensor([[0,0],[1,1],[2,2]])\n",
    "h = torch.tensor([[0,1],[0,1],[0,1]])\n",
    "e,f,e + f\n",
    "#  广播机制：形状不同的张量进行运算，先将元素复制成相同形状再运算"
   ]
  },
  {
   "cell_type": "code",
   "execution_count": 13,
   "id": "544814e8",
   "metadata": {},
   "outputs": [
    {
     "data": {
      "text/plain": [
       "(tensor([[0, 0],\n",
       "         [1, 1],\n",
       "         [2, 2]]),\n",
       " tensor([[0, 1],\n",
       "         [0, 1],\n",
       "         [0, 1]]),\n",
       " tensor([[0, 1],\n",
       "         [1, 2],\n",
       "         [2, 3]]))"
      ]
     },
     "execution_count": 13,
     "metadata": {},
     "output_type": "execute_result"
    }
   ],
   "source": [
    "# 效果同上\n",
    "g = torch.tensor([[0,0],[1,1],[2,2]])\n",
    "h = torch.tensor([[0,1],[0,1],[0,1]])\n",
    "g,h,g + h"
   ]
  },
  {
   "cell_type": "code",
   "execution_count": 14,
   "id": "ed4533c8",
   "metadata": {},
   "outputs": [
    {
     "data": {
      "text/plain": [
       "(tensor([[ 0,  1,  2,  3,  4],\n",
       "         [ 5,  6,  7,  8,  9],\n",
       "         [10, 11, 12, 13, 14],\n",
       "         [15, 16, 17, 18, 19]]),\n",
       " tensor([15, 16, 17, 18, 19]),\n",
       " tensor([[10, 11, 12, 13, 14],\n",
       "         [15, 16, 17, 18, 19]]),\n",
       " tensor([13, 14]))"
      ]
     },
     "execution_count": 14,
     "metadata": {},
     "output_type": "execute_result"
    }
   ],
   "source": [
    "a,a[-1],a[2:4],a[2,3:5]  # 简单切片(左闭右开)"
   ]
  },
  {
   "cell_type": "code",
   "execution_count": 15,
   "id": "6bc4620a",
   "metadata": {},
   "outputs": [
    {
     "data": {
      "text/plain": [
       "tensor([[ 0,  1,  0,  3,  4],\n",
       "        [ 5,  6,  0,  8,  9],\n",
       "        [10, 11,  0, 13, 14],\n",
       "        [15, 16,  0, 18, 19]])"
      ]
     },
     "execution_count": 15,
     "metadata": {},
     "output_type": "execute_result"
    }
   ],
   "source": [
    "a = torch.arange(20).reshape(4,5)\n",
    "a[:,2:3] = 0\n",
    "a  # 通过索引改变张量指定元素"
   ]
  },
  {
   "cell_type": "code",
   "execution_count": 16,
   "id": "fd29bfc3",
   "metadata": {},
   "outputs": [
    {
     "data": {
      "text/plain": [
       "(False, 2879408626560, 2879408598928)"
      ]
     },
     "execution_count": 16,
     "metadata": {},
     "output_type": "execute_result"
    }
   ],
   "source": [
    "before = id(a)  # id():类似获取a的指针的操作\n",
    "a = a + b  # 此步为a分配了新的内存(本质上产生了一个新的a)\n",
    "id(a) == before,before,id(a)"
   ]
  },
  {
   "cell_type": "code",
   "execution_count": 17,
   "id": "340130fe",
   "metadata": {},
   "outputs": [
    {
     "data": {
      "text/plain": [
       "(True, 2879408473408, 2879408473408)"
      ]
     },
     "execution_count": 17,
     "metadata": {},
     "output_type": "execute_result"
    }
   ],
   "source": [
    "# 执行原地操作（避免出现上述问题）\n",
    "i = torch.zeros_like(a)  # 生成形如a的零张量\n",
    "before = id(i)\n",
    "i[:] = a + b  # 改变i张量内所有元素（本质上是对i各元素赋值）\n",
    "id(i) == before,before,id(i)"
   ]
  },
  {
   "cell_type": "code",
   "execution_count": 18,
   "id": "54fc8709",
   "metadata": {},
   "outputs": [
    {
     "data": {
      "text/plain": [
       "(True, 2879408598928, 2879408598928)"
      ]
     },
     "execution_count": 18,
     "metadata": {},
     "output_type": "execute_result"
    }
   ],
   "source": [
    "# 效果同上\n",
    "before = id(a)\n",
    "a += b  # 区别于a=a+b对整个张量操作（本质上是对a各元素赋值）\n",
    "id(a) == before,before,id(a)"
   ]
  },
  {
   "cell_type": "code",
   "execution_count": 19,
   "id": "f0039c34",
   "metadata": {},
   "outputs": [
    {
     "data": {
      "text/plain": [
       "(array([[ 0.,  1.,  0.,  3.,  4.],\n",
       "        [ 5.,  6.,  0.,  8.,  9.],\n",
       "        [10., 11.,  0., 13., 14.],\n",
       "        [15., 16.,  0., 18., 19.]], dtype=float32),\n",
       " tensor([[ 0.,  1.,  0.,  3.,  4.],\n",
       "         [ 5.,  6.,  0.,  8.,  9.],\n",
       "         [10., 11.,  0., 13., 14.],\n",
       "         [15., 16.,  0., 18., 19.]]),\n",
       " numpy.ndarray,\n",
       " torch.Tensor)"
      ]
     },
     "execution_count": 19,
     "metadata": {},
     "output_type": "execute_result"
    }
   ],
   "source": [
    "# 转换为numpy张量\n",
    "A = a.numpy()\n",
    "B = torch.tensor(A)\n",
    "A,B,type(A),type(B)"
   ]
  },
  {
   "cell_type": "code",
   "execution_count": 20,
   "id": "f8d47619",
   "metadata": {},
   "outputs": [
    {
     "data": {
      "text/plain": [
       "(tensor([1.]), 1.0, 1.0, 1)"
      ]
     },
     "execution_count": 20,
     "metadata": {},
     "output_type": "execute_result"
    }
   ],
   "source": [
    "# 将大小为1的张量转换为Python标量\n",
    "a = torch.tensor([1.0])\n",
    "a,a.item(),float(a),int(a)"
   ]
  },
  {
   "cell_type": "code",
   "execution_count": null,
   "id": "ac5de04e",
   "metadata": {},
   "outputs": [],
   "source": []
  }
 ],
 "metadata": {
  "kernelspec": {
   "display_name": "Python 3 (ipykernel)",
   "language": "python",
   "name": "python3"
  },
  "language_info": {
   "codemirror_mode": {
    "name": "ipython",
    "version": 3
   },
   "file_extension": ".py",
   "mimetype": "text/x-python",
   "name": "python",
   "nbconvert_exporter": "python",
   "pygments_lexer": "ipython3",
   "version": "3.9.13"
  }
 },
 "nbformat": 4,
 "nbformat_minor": 5
}
